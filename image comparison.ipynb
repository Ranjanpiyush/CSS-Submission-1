{
 "cells": [
  {
   "cell_type": "markdown",
   "metadata": {
    "collapsed": true
   },
   "source": [
    "# Image Comparison"
   ]
  },
  {
   "cell_type": "markdown",
   "metadata": {},
   "source": [
    "Import libraries"
   ]
  },
  {
   "cell_type": "code",
   "execution_count": 1,
   "metadata": {
    "collapsed": true
   },
   "outputs": [],
   "source": [
    "import numpy as np\n",
    "import scipy.signal\n",
    "from skimage import io\n",
    "import scipy.signal\n",
    "import csv"
   ]
  },
  {
   "cell_type": "markdown",
   "metadata": {},
   "source": [
    "# Define function for Calculating correlation image"
   ]
  },
  {
   "cell_type": "code",
   "execution_count": 2,
   "metadata": {
    "collapsed": true
   },
   "outputs": [],
   "source": [
    "def cross_image(im1, im2):\n",
    "    # get rid of the color channels by performing a grayscale transform\n",
    "    # the type cast into 'float' is to avoid overflows\n",
    "    im1_gray = np.sum(im1.astype('float'), axis=2)\n",
    "    im2_gray = np.sum(im2.astype('float'), axis=2)\n",
    "\n",
    "    # get rid of the averages, otherwise the results are not good\n",
    "    im1_gray -= np.mean(im1_gray)\n",
    "    im2_gray -= np.mean(im2_gray)\n",
    "    \n",
    "    # calculate the correlation image; note the flipping of onw of the images [::-1,::-1]\n",
    "    return scipy.signal.fftconvolve(im1_gray, im2_gray, mode='same')"
   ]
  },
  {
   "cell_type": "markdown",
   "metadata": {},
   "source": [
    "# Script to calculate Correlation images for all frames"
   ]
  },
  {
   "cell_type": "code",
   "execution_count": 3,
   "metadata": {
    "collapsed": true
   },
   "outputs": [],
   "source": [
    "initial = np.zeros((750,1,2))\n",
    "final = np.zeros((750,1,2))\n",
    "for img in range(1,750):\n",
    "    file_1 = 'frame'+str(img)+'.jpg'\n",
    "    file_2 = 'frame'+str(img+1)+'.jpg'\n",
    "    img1 = io.imread(file_1)\n",
    "    img2 = io.imread(file_2)\n",
    "    corr_img1 = cross_image(img1,img1)\n",
    "    corr_img2 = cross_image(img1,img2)\n",
    "    initial[img] = np.unravel_index(np.argmax(corr_img1), corr_img1.shape)\n",
    "    final[img] = np.unravel_index(np.argmax(corr_img2), corr_img2.shape)\n",
    "    \n",
    "#print(\"final\",final)\n",
    "#print(\"initial\",initial)\n",
    "#print(\"Difference\",final-initial)\n",
    "\n",
    "# Write the results to a csv file\n",
    "myFile = open('final-initial.csv', 'w')  \n",
    "with myFile:\n",
    "    writer = csv.writer(myFile)\n",
    "    writer.writerows(final-initial)"
   ]
  }
 ],
 "metadata": {
  "kernelspec": {
   "display_name": "Python 3.6",
   "language": "python",
   "name": "python36"
  },
  "language_info": {
   "codemirror_mode": {
    "name": "ipython",
    "version": 3
   },
   "file_extension": ".py",
   "mimetype": "text/x-python",
   "name": "python",
   "nbconvert_exporter": "python",
   "pygments_lexer": "ipython3",
   "version": "3.6.3"
  }
 },
 "nbformat": 4,
 "nbformat_minor": 2
}
